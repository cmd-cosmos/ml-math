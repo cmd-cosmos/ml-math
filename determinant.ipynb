{
 "cells": [
  {
   "cell_type": "code",
   "execution_count": 2,
   "id": "12417ca9",
   "metadata": {},
   "outputs": [],
   "source": [
    "### COMPUTING DETERMINANTS\n",
    "import numpy as np  \n",
    "import math"
   ]
  },
  {
   "cell_type": "code",
   "execution_count": 23,
   "id": "4eaabb99",
   "metadata": {},
   "outputs": [
    {
     "name": "stdout",
     "output_type": "stream",
     "text": [
      "[[1 2]\n",
      " [3 4]] \n",
      "\n",
      "(2, 2)\n",
      "Determinant = -2 ---> Non-Singular Matrix\n"
     ]
    }
   ],
   "source": [
    "### 2X2 MATRIX\n",
    "a = np.array([[1,2],\n",
    "              [3,4]])\n",
    "print(a, '\\n')\n",
    "print(np.shape(a))\n",
    "\n",
    "def determinant_2_by_2(matrix):\n",
    "    matrix_shape = np.shape(matrix)\n",
    "    if matrix_shape != (2,2):\n",
    "        status = \"Failure\"\n",
    "        print(\"Shape Error - passed matrix of shape: {}\".format(matrix_shape))\n",
    "        return status\n",
    "    else:\n",
    "        val1 = matrix[0][0] * matrix[1][1]\n",
    "        val2 = matrix[0][1] * matrix[1][0]\n",
    "        determinant_val = val1 - val2\n",
    "        if determinant_val == 0:\n",
    "            print(\"Determinant = {} ---> Singular Matrix\".format(determinant_val))\n",
    "        else:\n",
    "            print(\"Determinant = {} ---> Non-Singular Matrix\".format(determinant_val))\n",
    "\n",
    "\n",
    "determinant_2_by_2(a)\n"
   ]
  },
  {
   "cell_type": "code",
   "execution_count": null,
   "id": "b53262a1",
   "metadata": {},
   "outputs": [
    {
     "name": "stdout",
     "output_type": "stream",
     "text": [
      "Shape Error - passed matrix of shape: (3, 2)\n",
      "Determinant = 0 ---> Singular Matrix\n"
     ]
    }
   ],
   "source": [
    "### Testing 2x2 determinant function\n",
    "\n",
    "test1 = np.array([[1,1], [1,2], [1,9]])\n",
    "determinant_2_by_2(test1)\n",
    "\n",
    "test2 = np.array([[1,1],[1,1]])\n",
    "determinant_2_by_2(test2)"
   ]
  },
  {
   "cell_type": "code",
   "execution_count": 5,
   "id": "6a186be7",
   "metadata": {},
   "outputs": [],
   "source": [
    "### 3X3 MATRIX \n",
    "# note: include upper triangular case shortcut\n",
    "\n"
   ]
  },
  {
   "cell_type": "code",
   "execution_count": null,
   "id": "014721b0",
   "metadata": {},
   "outputs": [],
   "source": []
  }
 ],
 "metadata": {
  "kernelspec": {
   "display_name": "Python 3",
   "language": "python",
   "name": "python3"
  },
  "language_info": {
   "codemirror_mode": {
    "name": "ipython",
    "version": 3
   },
   "file_extension": ".py",
   "mimetype": "text/x-python",
   "name": "python",
   "nbconvert_exporter": "python",
   "pygments_lexer": "ipython3",
   "version": "3.13.5"
  }
 },
 "nbformat": 4,
 "nbformat_minor": 5
}
