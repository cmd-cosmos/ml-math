{
 "cells": [
  {
   "cell_type": "code",
   "execution_count": 1,
   "id": "373082c1-6e39-4024-aa54-ae955b84f5ec",
   "metadata": {},
   "outputs": [],
   "source": [
    "'''Linear Algebra - dot product'''\n",
    "\n",
    "import numpy as np\n",
    "import math\n"
   ]
  },
  {
   "cell_type": "raw",
   "id": "f58f8376-b6cd-4923-b320-21271d206487",
   "metadata": {},
   "source": [
    "## dot product for 2 n-vectors:\n",
    "\n",
    "Given 2 vectors a and b ---> a.b = a1b1 + a2b2 + .... + anbn\n",
    "Reshaping is important for this multiplication given that both a and b are column vectors in R(n).\n",
    "transpose(a).p = a1b1 + a2b2 + .... + anbn"
   ]
  },
  {
   "cell_type": "code",
   "execution_count": 18,
   "id": "09377980-d765-4422-9e86-cbc13cf0333b",
   "metadata": {},
   "outputs": [
    {
     "name": "stdout",
     "output_type": "stream",
     "text": [
      "shape - a:  (3,)\n",
      "shape - b:  (3,)\n",
      "dot product of vectors:  32\n",
      "shape - a row vector:  (1, 3)\n",
      "shape - b col vector:  (3, 1)\n",
      "dot product matrix form:  [[32]]\n"
     ]
    }
   ],
   "source": [
    "# 1-D arrays correspond to scalar dot products so reshaping not required as they are flat by nature\n",
    "# when inner() or dot() used, internally transposed for 1-D arrays, not explicitly needed\n",
    "a = np.array([1,2,3])\n",
    "b = np.array([4,5,6])\n",
    "\n",
    "print('shape - a: ', a.shape)\n",
    "print('shape - b: ', b.shape)\n",
    "\n",
    "result = np.dot(a,b)\n",
    "# result = np.inner(a,b) <------------------------------- np.inner same as np.dot for 1-D arrays\n",
    "print('dot product of vectors: ', result)\n",
    "\n",
    "# matrix form ---> correct shape required for matrix mult ----> 1x1 matrix will be the output\n",
    "a_row_vec = a.reshape(1,3)\n",
    "b_col_vec = b.reshape(3,1)\n",
    "\n",
    "print('shape - a row vector: ', a_row_vec.shape)\n",
    "print('shape - b col vector: ', b_col_vec.shape)\n",
    "\n",
    "result_matrix = a_row_vec @ b_col_vec\n",
    "print('dot product matrix form: ', result_matrix)"
   ]
  }
 ],
 "metadata": {
  "kernelspec": {
   "display_name": "Python 3 (ipykernel)",
   "language": "python",
   "name": "python3"
  },
  "language_info": {
   "codemirror_mode": {
    "name": "ipython",
    "version": 3
   },
   "file_extension": ".py",
   "mimetype": "text/x-python",
   "name": "python",
   "nbconvert_exporter": "python",
   "pygments_lexer": "ipython3",
   "version": "3.13.5"
  }
 },
 "nbformat": 4,
 "nbformat_minor": 5
}
