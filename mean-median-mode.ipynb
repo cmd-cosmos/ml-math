{
 "cells": [
  {
   "cell_type": "code",
   "execution_count": null,
   "id": "31a1160a-c757-4164-8e31-e61db3181cab",
   "metadata": {},
   "outputs": [],
   "source": [
    "'''\n",
    "Basic Staistics Concepts - mean, median, mode\n",
    "'''"
   ]
  }
 ],
 "metadata": {
  "kernelspec": {
   "display_name": "Python 3 (ipykernel)",
   "language": "python",
   "name": "python3"
  },
  "language_info": {
   "codemirror_mode": {
    "name": "ipython",
    "version": 3
   },
   "file_extension": ".py",
   "mimetype": "text/x-python",
   "name": "python",
   "nbconvert_exporter": "python",
   "pygments_lexer": "ipython3",
   "version": "3.12.6"
  }
 },
 "nbformat": 4,
 "nbformat_minor": 5
}
