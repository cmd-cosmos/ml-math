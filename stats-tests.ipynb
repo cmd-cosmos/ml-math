{
 "cells": [
  {
   "cell_type": "code",
   "execution_count": 23,
   "id": "144f9810-a446-49a9-a6cb-52a8969adf22",
   "metadata": {},
   "outputs": [
    {
     "name": "stdout",
     "output_type": "stream",
     "text": [
      "[88, 91, 93, 93, 93, 95, 96, 100, 101, 102, 104, 104, 104, 107, 113, 114, 115, 115, 119, 120]\n"
     ]
    }
   ],
   "source": [
    "# Z test\n",
    "from statsmodels.stats.weightstats import ztest as ztest\n",
    "import random\n",
    "# generating random data for IQs between (85,120]\n",
    "# data = []\n",
    "# for i in range(20):\n",
    "#     data.append(random.randint(85,120)) \n",
    "\n",
    "dataset = sorted(data)\n",
    "print(dataset)\n",
    "# dataset = [88, 91, 93, 93, 93, 95, 96, 100, 101, 102, 104, 104, 104, 107, 113, 114, 115, 115, 119, 120]\n"
   ]
  },
  {
   "cell_type": "code",
   "execution_count": 25,
   "id": "2b7262ee-dfdb-4b64-909b-35839d939858",
   "metadata": {},
   "outputs": [
    {
     "data": {
      "text/plain": [
       "(1.5115300699423317, 0.1306534533233298)"
      ]
     },
     "execution_count": 25,
     "metadata": {},
     "output_type": "execute_result"
    }
   ],
   "source": [
    "ztest(data,value=100)\n",
    "\n",
    "# z-val = 1.5115 ---> use to conclude\n",
    "# p-value = 0.13 ---> if p-val < significance val then reject the null hypothesis"
   ]
  },
  {
   "cell_type": "code",
   "execution_count": 29,
   "id": "42868449-e505-4bda-9f91-d21bafc38ab8",
   "metadata": {},
   "outputs": [
    {
     "name": "stdout",
     "output_type": "stream",
     "text": [
      "[16, 16, 19, 19, 22, 22, 23, 33, 34, 34, 43, 45, 54, 61, 63, 64, 65, 70, 72, 74]\n"
     ]
    }
   ],
   "source": [
    "# T test\n",
    "import numpy as np\n",
    "# d = []\n",
    "# for i in range(20):\n",
    "#     d.append(random.randint(10,75))\n",
    "ages = sorted(d)\n",
    "print(ages)\n",
    "# ages = [16, 16, 19, 19, 22, 22, 23, 33, 34, 34, 43, 45, 54, 61, 63, 64, 65, 70, 72, 74]\n"
   ]
  },
  {
   "cell_type": "code",
   "execution_count": 31,
   "id": "5bc5bc4b-b5a6-48eb-8366-737bc13e7489",
   "metadata": {},
   "outputs": [
    {
     "name": "stdout",
     "output_type": "stream",
     "text": [
      "42.45\n"
     ]
    }
   ],
   "source": [
    "age_mean = np.mean(ages)\n",
    "print(age_mean)"
   ]
  },
  {
   "cell_type": "code",
   "execution_count": 32,
   "id": "011ebdf9-c767-4270-8c34-a5cb6b4efd0b",
   "metadata": {},
   "outputs": [],
   "source": [
    "sample_size = 10\n",
    "age_sample = np.random.choice(ages, sample_size)"
   ]
  },
  {
   "cell_type": "code",
   "execution_count": 33,
   "id": "50865141-8699-44dd-88d8-33ce2652e1f9",
   "metadata": {},
   "outputs": [
    {
     "data": {
      "text/plain": [
       "array([65, 23, 23, 61, 34, 54, 63, 61, 70, 45])"
      ]
     },
     "execution_count": 33,
     "metadata": {},
     "output_type": "execute_result"
    }
   ],
   "source": [
    "age_sample"
   ]
  },
  {
   "cell_type": "code",
   "execution_count": 41,
   "id": "18ada6a0-47f3-4a02-a02f-338b99b81ce0",
   "metadata": {},
   "outputs": [
    {
     "data": {
      "text/plain": [
       "TtestResult(statistic=5.3693325790460245, pvalue=0.00045075715211915276, df=9)"
      ]
     },
     "execution_count": 41,
     "metadata": {},
     "output_type": "execute_result"
    }
   ],
   "source": [
    "from scipy.stats import ttest_1samp as ttest\n",
    "\n",
    "result = ttest(age_sample,20)\n",
    "result"
   ]
  }
 ],
 "metadata": {
  "kernelspec": {
   "display_name": "Python 3 (ipykernel)",
   "language": "python",
   "name": "python3"
  },
  "language_info": {
   "codemirror_mode": {
    "name": "ipython",
    "version": 3
   },
   "file_extension": ".py",
   "mimetype": "text/x-python",
   "name": "python",
   "nbconvert_exporter": "python",
   "pygments_lexer": "ipython3",
   "version": "3.12.6"
  }
 },
 "nbformat": 4,
 "nbformat_minor": 5
}
