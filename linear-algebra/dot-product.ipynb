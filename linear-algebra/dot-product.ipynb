{
 "cells": [
  {
   "cell_type": "code",
   "execution_count": 3,
   "id": "373082c1-6e39-4024-aa54-ae955b84f5ec",
   "metadata": {},
   "outputs": [],
   "source": [
    "'''Linear Algebra - dot product'''\n",
    "\n",
    "import numpy as np\n",
    "import math\n"
   ]
  },
  {
   "cell_type": "raw",
   "id": "f58f8376-b6cd-4923-b320-21271d206487",
   "metadata": {},
   "source": [
    "## dot product for 2 n-vectors:\n",
    "\n",
    "Given 2 vectors a and b ---> a.b = a1b1 + a2b2 + .... + anbn\n",
    "Reshaping is important for this multiplication given that both a and b are column vectors in R(n).\n",
    "transpose(a).p = a1b1 + a2b2 + .... + anbn"
   ]
  },
  {
   "cell_type": "code",
   "execution_count": 4,
   "id": "09377980-d765-4422-9e86-cbc13cf0333b",
   "metadata": {},
   "outputs": [
    {
     "name": "stdout",
     "output_type": "stream",
     "text": [
      "shape - a:  (3,)\n",
      "shape - b:  (3,)\n",
      "dot product of vectors:  32\n",
      "shape - a row vector:  (1, 3)\n",
      "shape - b col vector:  (3, 1)\n",
      "dot product matrix form:  [[32]]\n"
     ]
    }
   ],
   "source": [
    "# 1-D arrays correspond to scalar dot products so reshaping not required as they are flat by nature\n",
    "# when inner() or dot() used, internally transposed for 1-D arrays, not explicitly needed\n",
    "a = np.array([1,2,3])\n",
    "b = np.array([4,5,6])\n",
    "\n",
    "print('shape - a: ', a.shape)\n",
    "print('shape - b: ', b.shape)\n",
    "\n",
    "result = np.dot(a,b)\n",
    "# result = np.inner(a,b) <------------------------------- np.inner same as np.dot for 1-D arrays\n",
    "print('dot product of vectors: ', result)\n",
    "\n",
    "# matrix form ---> correct shape required for matrix mult ----> 1x1 matrix will be the output\n",
    "a_row_vec = a.reshape(1,3)\n",
    "b_col_vec = b.reshape(3,1)\n",
    "\n",
    "print('shape - a row vector: ', a_row_vec.shape)\n",
    "print('shape - b col vector: ', b_col_vec.shape)\n",
    "\n",
    "result_matrix = a_row_vec @ b_col_vec\n",
    "print('dot product matrix form: ', result_matrix)"
   ]
  },
  {
   "cell_type": "code",
   "execution_count": 11,
   "id": "3b39b2c2-481c-4215-98bd-d878567e4dff",
   "metadata": {},
   "outputs": [
    {
     "name": "stdout",
     "output_type": "stream",
     "text": [
      "17\n",
      "[[14  6]\n",
      " [ 6  3]]\n"
     ]
    }
   ],
   "source": [
    "# vdot() function ---> flattens the given N-dimensional arrays into their 1-D equivalents to calc. dot products\n",
    "\n",
    "arr1 = np.array([[1,2,3], [1,1,1]])\n",
    "arr2 = np.array([[1,2,3], [1,1,1]])\n",
    "\n",
    "res = np.vdot(arr1, arr2)\n",
    "print(res)\n",
    "\n",
    "# res2 = np.dot(arr1,arr2) #shapes (2,3) and (2,3) not aligned: 3 (dim 1) != 2 (dim 0)\n",
    "# res2 = arr1 @ arr2 # Input operand 1 has a mismatch in its core dimension 0\n",
    "\n",
    "res2 = np.inner(arr1, arr2) # dot product for the rows\n",
    "print(res2)"
   ]
  },
  {
   "cell_type": "markdown",
   "id": "d6cd6f4e-2f78-41f4-b98b-ebcb96c0f39e",
   "metadata": {},
   "source": [
    "# Use Cases\n",
    "\n",
    "np.dot() or @ -----> dot prod of 1D vectors and matrix multiplication\n",
    "np.vdot()     -----> flatten arrays and return scalar output, complex num conjugate in dot\n",
    "np.inner()    -----> row wise dot product\n"
   ]
  },
  {
   "cell_type": "code",
   "execution_count": 12,
   "id": "3bf5b6ca-6eaa-43b1-b810-8a4271996ed1",
   "metadata": {},
   "outputs": [],
   "source": [
    "# res2 = np.dot(arr1,arr2) #shapes (2,3) and (2,3) not aligned: 3 (dim 1) != 2 (dim 0)\n",
    "# res2 = arr1 @ arr2 # Input operand 1 has a mismatch in its core dimension 0\n",
    "\n",
    "# to use the @ and dot method for matrix multiplication, T or transpose must be done on \n",
    "# one of the vectors or matrix to ensure inner dimensions match."
   ]
  }
 ],
 "metadata": {
  "kernelspec": {
   "display_name": "Python 3 (ipykernel)",
   "language": "python",
   "name": "python3"
  },
  "language_info": {
   "codemirror_mode": {
    "name": "ipython",
    "version": 3
   },
   "file_extension": ".py",
   "mimetype": "text/x-python",
   "name": "python",
   "nbconvert_exporter": "python",
   "pygments_lexer": "ipython3",
   "version": "3.13.5"
  }
 },
 "nbformat": 4,
 "nbformat_minor": 5
}
