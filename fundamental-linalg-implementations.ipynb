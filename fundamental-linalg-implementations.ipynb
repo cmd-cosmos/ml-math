{
 "cells": [
  {
   "cell_type": "markdown",
   "id": "66481b0d-ba6e-40c2-b206-fd74c1077c57",
   "metadata": {},
   "source": [
    "Required linear algebra concepts for ML.\n",
    "Implementation of essential theory from linear algebra."
   ]
  },
  {
   "cell_type": "code",
   "execution_count": 2,
   "id": "6fae605b-0c35-4361-b44f-212bf5cf8496",
   "metadata": {},
   "outputs": [
    {
     "name": "stdout",
     "output_type": "stream",
     "text": [
      "vector 1 =  [1 2 3]\n",
      "vector 2 =  [4 5 6]\n",
      "vector 1 shape =  (3,)\n",
      "vector 2 shape =  (3,)\n"
     ]
    }
   ],
   "source": [
    "# vectors ---> data ---> 1D usually\n",
    "# data points ---> contain features\n",
    "# Eg) house ---> single house vector with 3 features like [area, bedrooms, price]\n",
    "#                                                house1 = [1000, 2, 250]\n",
    "# Eg) 100 house representing vectors will form a matrix\n",
    "#     that matrix will have 100 rows (houses) and 3 columns (features) \n",
    "\n",
    "import numpy as np\n",
    "\n",
    "v1 = np.array([1,2,3])\n",
    "v2 = np.array([4,5,6])\n",
    "\n",
    "print(\"vector 1 = \",v1)\n",
    "print(\"vector 2 = \",v2)\n",
    "\n",
    "# 1D array\n",
    "print(\"vector 1 shape = \",v1.shape)\n",
    "print(\"vector 2 shape = \",v2.shape)\n"
   ]
  },
  {
   "cell_type": "code",
   "execution_count": 3,
   "id": "c353298b-fab9-4bdd-a26d-f28d092a8238",
   "metadata": {},
   "outputs": [
    {
     "name": "stdout",
     "output_type": "stream",
     "text": [
      "vector sum =  [5 7 9]\n",
      "vector difference =  [-3 -3 -3]\n",
      "vector dot product =  32\n"
     ]
    }
   ],
   "source": [
    "# vector addition\n",
    "v_sum = v1 + v2\n",
    "print(\"vector sum = \", v_sum)\n",
    "\n",
    "# vector subtraction\n",
    "v_diff = v1 - v2\n",
    "print(\"vector difference = \", v_diff)\n",
    "\n",
    "# vector dot product\n",
    "v_dot = np.dot(v1, v2)\n",
    "print(\"vector dot product = \", v_dot)"
   ]
  },
  {
   "cell_type": "code",
   "execution_count": 4,
   "id": "776b4684-8503-4a5d-b500-b9ad66edb722",
   "metadata": {},
   "outputs": [
    {
     "name": "stdout",
     "output_type": "stream",
     "text": [
      "l2 norm for vector 1:  3.7416573867739413\n",
      "l2 norm for vector 2:  8.774964387392123\n",
      "1l norm for vector 1:  6.0\n",
      "1l norm for vector 2:  15.0\n"
     ]
    }
   ],
   "source": [
    "# vector norms ---> .norm() internally implements Euclidean Norm/ L2 norm\n",
    "v1_2norm = np.linalg.norm(v1)\n",
    "print(\"l2 norm for vector 1: \", v1_2norm)\n",
    "\n",
    "v2_2norm = np.linalg.norm(v2)\n",
    "print(\"l2 norm for vector 2: \", v2_2norm)\n",
    "\n",
    "# l1 norm is calculated differently ---> also known as manhatten norm, sum of vec entries.\n",
    "v1_1norm = np.linalg.norm(v1, 1)\n",
    "print(\"1l norm for vector 1: \", v1_1norm)\n",
    "\n",
    "v2_1norm = np.linalg.norm(v2, 1)\n",
    "print(\"1l norm for vector 2: \", v2_1norm)\n",
    "\n",
    "# most common use case for norms is to check similarity of 2 vectors.\n",
    "# used to check coherence of data points in a data set."
   ]
  },
  {
   "cell_type": "code",
   "execution_count": 5,
   "id": "267899c3-14f3-46ae-a88d-6c1e8eb6a02c",
   "metadata": {},
   "outputs": [
    {
     "name": "stdout",
     "output_type": "stream",
     "text": [
      "matrix a: \n",
      " [[2 1]\n",
      " [1 7]]\n",
      "matrix b: \n",
      " [[1 3]\n",
      " [8 6]]\n"
     ]
    }
   ],
   "source": [
    "# Matrices\n",
    "\n",
    "# declaring 2x2 matrices, 2 rows and 2 columns each\n",
    "# a single list inside the main matrix list is a row\n",
    "# in matrix a ---> 2,1 is a row and 1,7 is the 2nd row\n",
    "matrix_a = np.array([[2, 1], [1,7]])\n",
    "matrix_b = np.array([[1, 3], [8,6]])\n",
    "\n",
    "print(\"matrix a: \\n\", matrix_a)\n",
    "print(\"matrix b: \\n\", matrix_b)"
   ]
  },
  {
   "cell_type": "code",
   "execution_count": 6,
   "id": "d9393bb0-4315-40c6-9c51-d8a9e9105e54",
   "metadata": {},
   "outputs": [
    {
     "name": "stdout",
     "output_type": "stream",
     "text": [
      "matrix a + matrix b = \n",
      " [[ 3  4]\n",
      " [ 9 13]]\n"
     ]
    }
   ],
   "source": [
    "# matrix addition\n",
    "\n",
    "matrix_sum = matrix_a + matrix_b # done element wise\n",
    "print(\"matrix a + matrix b = \\n\", matrix_sum) "
   ]
  },
  {
   "cell_type": "code",
   "execution_count": 11,
   "id": "716855e5-5a7c-4890-86e3-aaa128789bf7",
   "metadata": {},
   "outputs": [
    {
     "name": "stdout",
     "output_type": "stream",
     "text": [
      "element wise mult result = \n",
      " [[ 2  3]\n",
      " [ 8 42]]\n",
      "matrix dot mult result = \n",
      " [[10 12]\n",
      " [57 45]]\n"
     ]
    }
   ],
   "source": [
    "# matrix multiplication ---> element wise and dot product\n",
    "\n",
    "ele_matrix_mult = matrix_a * matrix_b\n",
    "print(\"element wise mult result = \\n\", ele_matrix_mult)\n",
    "\n",
    "matrix_mult = np.dot(matrix_a, matrix_b) # summation of row x cols\n",
    "print(\"matrix dot mult result = \\n\", matrix_mult)"
   ]
  },
  {
   "cell_type": "code",
   "execution_count": 18,
   "id": "843ace4e-7224-40e2-b8d6-09aefcd40e6e",
   "metadata": {},
   "outputs": [
    {
     "name": "stdout",
     "output_type": "stream",
     "text": [
      "[np.int64(12), np.int64(12)]\n",
      "[np.int64(17), np.int64(17)]\n"
     ]
    }
   ],
   "source": [
    "def matrix_multiplication(matrix1, matrix2):\n",
    "    m_matrix1 = len(matrix1)    # rows in matrix 1\n",
    "    n_matrix1 = len(matrix1[0]) # cols in matrix 1\n",
    "    m_matrix2 = len(matrix2)    # rows in matrix 2\n",
    "    n_matrix2 = len(matrix2[0]) # cols in matrix 2\n",
    "\n",
    "    if n_matrix1 != m_matrix2:\n",
    "        raise ValueError(\"matrix shapes prevent multiplication.\")\n",
    "\n",
    "    # initialize a 0 matrix with the dimensions -> m_matrix1 (rows) and n_matrix2 (columns)\n",
    "    result_matrix = [[0 for _ in range(n_matrix2)] for _ in range(m_matrix1)]\n",
    "\n",
    "    for i in range(m_matrix1):\n",
    "        for j in range(n_matrix2):\n",
    "            for k in range(n_matrix1):\n",
    "                result_matrix[i][j] += matrix1[i][k] + matrix2[k][j]\n",
    "    return result_matrix\n",
    "\n",
    "matrix1 = [\n",
    "    [1,2,7],\n",
    "    [3,4,5]\n",
    "]\n",
    "matrix2 = [\n",
    "    [7,8],\n",
    "    [9,10],\n",
    "    [11,12]\n",
    "]\n",
    "manual_calc = matrix_multiplication(matrix1, matrix2)\n",
    "for row in manual_calc:\n",
    "    print(row)"
   ]
  },
  {
   "cell_type": "code",
   "execution_count": null,
   "id": "869dc056-327f-4467-8d28-3d3fc12893dc",
   "metadata": {},
   "outputs": [],
   "source": []
  }
 ],
 "metadata": {
  "kernelspec": {
   "display_name": "Python 3 (ipykernel)",
   "language": "python",
   "name": "python3"
  },
  "language_info": {
   "codemirror_mode": {
    "name": "ipython",
    "version": 3
   },
   "file_extension": ".py",
   "mimetype": "text/x-python",
   "name": "python",
   "nbconvert_exporter": "python",
   "pygments_lexer": "ipython3",
   "version": "3.13.5"
  }
 },
 "nbformat": 4,
 "nbformat_minor": 5
}
