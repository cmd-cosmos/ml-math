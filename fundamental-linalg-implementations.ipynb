{
 "cells": [
  {
   "cell_type": "markdown",
   "id": "66481b0d-ba6e-40c2-b206-fd74c1077c57",
   "metadata": {},
   "source": [
    "Required linear algebra concepts for ML.\n",
    "Implementation of essential theory from linear algebra."
   ]
  },
  {
   "cell_type": "code",
   "execution_count": 1,
   "id": "6fae605b-0c35-4361-b44f-212bf5cf8496",
   "metadata": {},
   "outputs": [
    {
     "name": "stdout",
     "output_type": "stream",
     "text": [
      "vector 1 =  [1 2 3]\n",
      "vector 2 =  [4 5 6]\n",
      "vector 1 shape =  (3,)\n",
      "vector 2 shape =  (3,)\n"
     ]
    }
   ],
   "source": [
    "# vectors ---> data ---> 1D usually\n",
    "# data points ---> contain features\n",
    "# Eg) house ---> single house vector with 3 features like [area, bedrooms, price]\n",
    "#                                                house1 = [1000, 2, 250]\n",
    "# Eg) 100 house representing vectors will form a matrix\n",
    "#     that matrix will have 100 rows (houses) and 3 columns (features) \n",
    "\n",
    "import numpy as np\n",
    "\n",
    "v1 = np.array([1,2,3])\n",
    "v2 = np.array([4,5,6])\n",
    "\n",
    "print(\"vector 1 = \",v1)\n",
    "print(\"vector 2 = \",v2)\n",
    "\n",
    "# 1D array\n",
    "print(\"vector 1 shape = \",v1.shape)\n",
    "print(\"vector 2 shape = \",v2.shape)\n"
   ]
  },
  {
   "cell_type": "code",
   "execution_count": 2,
   "id": "c353298b-fab9-4bdd-a26d-f28d092a8238",
   "metadata": {},
   "outputs": [
    {
     "name": "stdout",
     "output_type": "stream",
     "text": [
      "vector sum =  [5 7 9]\n",
      "vector difference =  [-3 -3 -3]\n",
      "vector dot product =  32\n"
     ]
    }
   ],
   "source": [
    "# vector addition\n",
    "v_sum = v1 + v2\n",
    "print(\"vector sum = \", v_sum)\n",
    "\n",
    "# vector subtraction\n",
    "v_diff = v1 - v2\n",
    "print(\"vector difference = \", v_diff)\n",
    "\n",
    "# vector dot product\n",
    "v_dot = np.dot(v1, v2)\n",
    "print(\"vector dot product = \", v_dot)"
   ]
  },
  {
   "cell_type": "code",
   "execution_count": 3,
   "id": "776b4684-8503-4a5d-b500-b9ad66edb722",
   "metadata": {},
   "outputs": [
    {
     "name": "stdout",
     "output_type": "stream",
     "text": [
      "l2 norm for vector 1:  3.7416573867739413\n",
      "l2 norm for vector 2:  8.774964387392123\n",
      "1l norm for vector 1:  6.0\n",
      "1l norm for vector 2:  15.0\n"
     ]
    }
   ],
   "source": [
    "# vector norms ---> .norm() internally implements Euclidean Norm/ L2 norm\n",
    "v1_2norm = np.linalg.norm(v1)\n",
    "print(\"l2 norm for vector 1: \", v1_2norm)\n",
    "\n",
    "v2_2norm = np.linalg.norm(v2)\n",
    "print(\"l2 norm for vector 2: \", v2_2norm)\n",
    "\n",
    "# l1 norm is calculated differently ---> also known as manhatten norm, sum of vec entries.\n",
    "v1_1norm = np.linalg.norm(v1, 1)\n",
    "print(\"1l norm for vector 1: \", v1_1norm)\n",
    "\n",
    "v2_1norm = np.linalg.norm(v2, 1)\n",
    "print(\"1l norm for vector 2: \", v2_1norm)\n",
    "\n",
    "# most common use case for norms is to check similarity of 2 vectors.\n",
    "# used to check coherence of data points in a data set."
   ]
  },
  {
   "cell_type": "code",
   "execution_count": 4,
   "id": "267899c3-14f3-46ae-a88d-6c1e8eb6a02c",
   "metadata": {},
   "outputs": [
    {
     "name": "stdout",
     "output_type": "stream",
     "text": [
      "matrix a: \n",
      " [[2 1]\n",
      " [1 7]]\n",
      "matrix b: \n",
      " [[1 3]\n",
      " [8 6]]\n"
     ]
    }
   ],
   "source": [
    "# Matrices\n",
    "\n",
    "# declaring 2x2 matrices, 2 rows and 2 columns each\n",
    "# a single list inside the main matrix list is a row\n",
    "# in matrix a ---> 2,1 is a row and 1,7 is the 2nd row\n",
    "matrix_a = np.array([[2, 1], [1,7]])\n",
    "matrix_b = np.array([[1, 3], [8,6]])\n",
    "\n",
    "print(\"matrix a: \\n\", matrix_a)\n",
    "print(\"matrix b: \\n\", matrix_b)"
   ]
  },
  {
   "cell_type": "code",
   "execution_count": 5,
   "id": "d9393bb0-4315-40c6-9c51-d8a9e9105e54",
   "metadata": {},
   "outputs": [
    {
     "name": "stdout",
     "output_type": "stream",
     "text": [
      "matrix a + matrix b = \n",
      " [[ 3  4]\n",
      " [ 9 13]]\n"
     ]
    }
   ],
   "source": [
    "# matrix addition\n",
    "\n",
    "matrix_sum = matrix_a + matrix_b # done element wise\n",
    "print(\"matrix a + matrix b = \\n\", matrix_sum) "
   ]
  },
  {
   "cell_type": "code",
   "execution_count": 6,
   "id": "716855e5-5a7c-4890-86e3-aaa128789bf7",
   "metadata": {},
   "outputs": [
    {
     "name": "stdout",
     "output_type": "stream",
     "text": [
      "element wise mult result = \n",
      " [[ 2  3]\n",
      " [ 8 42]]\n",
      "matrix dot mult result = \n",
      " [[10 12]\n",
      " [57 45]]\n"
     ]
    }
   ],
   "source": [
    "# matrix multiplication ---> element wise and dot product\n",
    "\n",
    "ele_matrix_mult = matrix_a * matrix_b\n",
    "print(\"element wise mult result = \\n\", ele_matrix_mult)\n",
    "\n",
    "matrix_mult = np.dot(matrix_a, matrix_b) # summation of row x cols\n",
    "print(\"matrix dot mult result = \\n\", matrix_mult)"
   ]
  },
  {
   "cell_type": "code",
   "execution_count": 7,
   "id": "843ace4e-7224-40e2-b8d6-09aefcd40e6e",
   "metadata": {},
   "outputs": [
    {
     "name": "stdout",
     "output_type": "stream",
     "text": [
      "[37, 40]\n",
      "[39, 42]\n"
     ]
    }
   ],
   "source": [
    "def matrix_multiplication(matrix1, matrix2):\n",
    "    m_matrix1 = len(matrix1)    # rows in matrix 1\n",
    "    n_matrix1 = len(matrix1[0]) # cols in matrix 1\n",
    "    m_matrix2 = len(matrix2)    # rows in matrix 2\n",
    "    n_matrix2 = len(matrix2[0]) # cols in matrix 2\n",
    "\n",
    "    if n_matrix1 != m_matrix2:\n",
    "        raise ValueError(\"matrix shapes prevent multiplication.\")\n",
    "\n",
    "    # initialize a 0 matrix with the dimensions -> m_matrix1 (rows) and n_matrix2 (columns)\n",
    "    result_matrix = [[0 for _ in range(n_matrix2)] for _ in range(m_matrix1)]\n",
    "\n",
    "    for i in range(m_matrix1):\n",
    "        for j in range(n_matrix2):\n",
    "            for k in range(n_matrix1):\n",
    "                result_matrix[i][j] += matrix1[i][k] + matrix2[k][j]\n",
    "    return result_matrix\n",
    "\n",
    "matrix1 = [\n",
    "    [1,2,7],\n",
    "    [3,4,5]\n",
    "]\n",
    "matrix2 = [\n",
    "    [7,8],\n",
    "    [9,10],\n",
    "    [11,12]\n",
    "]\n",
    "manual_calc = matrix_multiplication(matrix1, matrix2)\n",
    "for row in manual_calc:\n",
    "    print(row)"
   ]
  },
  {
   "cell_type": "code",
   "execution_count": 8,
   "id": "869dc056-327f-4467-8d28-3d3fc12893dc",
   "metadata": {},
   "outputs": [
    {
     "name": "stdout",
     "output_type": "stream",
     "text": [
      "[[0.52785426 0.84884525]\n",
      " [0.91255533 0.50246182]\n",
      " [0.31532756 0.34988011]] \n",
      "\n",
      "[[0.16629166 0.92906857 0.74329551 0.56706582 0.1013106 ]\n",
      " [0.70363734 0.88396368 0.3196214  0.31098573 0.77919397]\n",
      " [0.9499112  0.21399238 0.89106209 0.93535076 0.46299153]\n",
      " [0.01629815 0.71882728 0.93410773 0.53035849 0.07017566]]\n"
     ]
    }
   ],
   "source": [
    "# randomly populating matrices based on shapes\n",
    "\n",
    "random_matrix = np.random.rand(3,2)\n",
    "random_matrix2 = np.random.rand(4,5)\n",
    "print(random_matrix, '\\n')\n",
    "print(random_matrix2)"
   ]
  },
  {
   "cell_type": "code",
   "execution_count": 9,
   "id": "0458b7dd-289c-4aa0-a5a3-be40ecabf6f4",
   "metadata": {},
   "outputs": [
    {
     "name": "stdout",
     "output_type": "stream",
     "text": [
      "matrix a: \n",
      " [[ 1  2  3  4  5]\n",
      " [ 6  7  8  9 10]]\n",
      "transpose of matrix a: \n",
      " [[ 1  6]\n",
      " [ 2  7]\n",
      " [ 3  8]\n",
      " [ 4  9]\n",
      " [ 5 10]]\n"
     ]
    }
   ],
   "source": [
    "# transposing a matrix\n",
    "\n",
    "sample_matrix = np.array([[1,2,3,4,5], [6,7,8,9,10]])\n",
    "print(\"matrix a: \\n\", sample_matrix)\n",
    "transpose_a = sample_matrix.T         # transpose of matrix a\n",
    "print(\"transpose of matrix a: \\n\", transpose_a)"
   ]
  },
  {
   "cell_type": "code",
   "execution_count": 10,
   "id": "e93b48fa-576a-4d9f-9d6b-05d7dd11ce1f",
   "metadata": {},
   "outputs": [
    {
     "name": "stdout",
     "output_type": "stream",
     "text": [
      "matrix a: \n",
      " [[2 1]\n",
      " [1 7]]\n",
      "determinant of a:  13.0\n"
     ]
    }
   ],
   "source": [
    "# determinant of a matrix ---> only for square matrix\n",
    "print(\"matrix a: \\n\", matrix_a)\n",
    "determinant_a = np.linalg.det(matrix_a)\n",
    "print(\"determinant of a: \", determinant_a)"
   ]
  },
  {
   "cell_type": "code",
   "execution_count": 11,
   "id": "a23a6f05-550d-4871-9f25-d7062e307962",
   "metadata": {},
   "outputs": [
    {
     "name": "stdout",
     "output_type": "stream",
     "text": [
      "matrix a: \n",
      " [[2 1]\n",
      " [1 7]]\n",
      "inverse of matrix a: \n",
      " [[ 0.53846154 -0.07692308]\n",
      " [-0.07692308  0.15384615]]\n"
     ]
    }
   ],
   "source": [
    "# inverse of a matrix ---> only possible if non zero determinant/singular matrix\n",
    "\n",
    "print(\"matrix a: \\n\", matrix_a)\n",
    "\n",
    "try:\n",
    "    inverse_a = np.linalg.inv(matrix_a)\n",
    "    print(\"inverse of matrix a: \\n\", inverse_a)\n",
    "except:\n",
    "    print(\"Invlaid input: singular matrix found.\")\n",
    "    "
   ]
  },
  {
   "cell_type": "code",
   "execution_count": 14,
   "id": "7bc0aedd-901d-4cf7-afda-f63f077b68b0",
   "metadata": {},
   "outputs": [
    {
     "name": "stdout",
     "output_type": "stream",
     "text": [
      "matrix a: \n",
      " [[2 1]\n",
      " [1 7]]\n",
      "eigen values for matrix a =  [1.8074176 7.1925824]\n",
      "eigen vectors for matrix a = \n",
      " [[-0.98195639 -0.18910752]\n",
      " [ 0.18910752 -0.98195639]]\n"
     ]
    }
   ],
   "source": [
    "# eignevectors ---> vectors that maintain their direction even after linear transformation.\n",
    "# eignevalues ---> the value by which the matrix was scaled.\n",
    "\n",
    "print(\"matrix a: \\n\", matrix_a)\n",
    "eigen_vals, eigen_vectors = np.linalg.eig(matrix_a)  # eig() ---> does eigenvalue decomposition\n",
    "print(\"eigen values for matrix a = \", eigen_vals)\n",
    "print(\"eigen vectors for matrix a = \\n\", eigen_vectors)\n",
    "\n",
    "# in simple terms:\n",
    "# eigen vals ---> stretch or shrink the matrix in a direction.\n",
    "# eigen vectors ---> direction of the strech or the shrink.\n",
    "\n",
    "# eigen value decomposition is done to reduce the dimensionality of the data.\n",
    "# work with feature rich data sets.\n"
   ]
  },
  {
   "cell_type": "code",
   "execution_count": 15,
   "id": "cb7595b0-bb11-46ac-aa51-c83cfc093eae",
   "metadata": {},
   "outputs": [
    {
     "name": "stdout",
     "output_type": "stream",
     "text": [
      "matrix A: \n",
      " [[1 2]\n",
      " [7 9]]\n",
      "vector b: \n",
      " [3 0]\n",
      "solution x = \n",
      " [-5.4  4.2]\n"
     ]
    }
   ],
   "source": [
    "# solving a sys of lin eqns ---> Ax = b\n",
    "\n",
    "A = np.array([[1,2], [7,9]])\n",
    "b = np.array([3,0])\n",
    "\n",
    "x = np.linalg.solve(A, b)\n",
    "print(\"matrix A: \\n\", A)\n",
    "print(\"vector b: \\n\", b)\n",
    "print(\"solution x = \\n\", x)"
   ]
  },
  {
   "cell_type": "code",
   "execution_count": null,
   "id": "e7bfc45a-01e1-4a70-b9ea-b20ac5b575fd",
   "metadata": {},
   "outputs": [],
   "source": []
  }
 ],
 "metadata": {
  "kernelspec": {
   "display_name": "Python 3 (ipykernel)",
   "language": "python",
   "name": "python3"
  },
  "language_info": {
   "codemirror_mode": {
    "name": "ipython",
    "version": 3
   },
   "file_extension": ".py",
   "mimetype": "text/x-python",
   "name": "python",
   "nbconvert_exporter": "python",
   "pygments_lexer": "ipython3",
   "version": "3.13.5"
  }
 },
 "nbformat": 4,
 "nbformat_minor": 5
}
