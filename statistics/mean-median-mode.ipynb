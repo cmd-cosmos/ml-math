{
 "cells": [
  {
   "cell_type": "code",
   "execution_count": 4,
   "id": "31a1160a-c757-4164-8e31-e61db3181cab",
   "metadata": {},
   "outputs": [],
   "source": [
    "'''\n",
    "Basic Staistics Concepts - mean, median, mode\n",
    "'''\n",
    "\n",
    "import math\n",
    "import statistics\n",
    "import matplotlib.pyplot as plt\n",
    "%matplotlib inline"
   ]
  },
  {
   "cell_type": "code",
   "execution_count": 11,
   "id": "53355ef4-9f83-4e48-8505-01e4f2b0c063",
   "metadata": {},
   "outputs": [
    {
     "name": "stdout",
     "output_type": "stream",
     "text": [
      "nums:  [1, 2, 3, 4, 5, 6, 7, 8, 9, 10]\n"
     ]
    }
   ],
   "source": [
    "nums = [i for i in range(1,11)]\n",
    "n = len(nums)\n",
    "\n",
    "print('nums: ', nums)"
   ]
  },
  {
   "cell_type": "code",
   "execution_count": 17,
   "id": "78f3ffc0-bcc1-4118-b4a1-6ab58c4887dd",
   "metadata": {},
   "outputs": [
    {
     "name": "stdout",
     "output_type": "stream",
     "text": [
      "manual mean calc:  5.5\n",
      "library mean calc:  5.5\n"
     ]
    }
   ],
   "source": [
    "def calc_mean(nums, n):\n",
    "    mean = sum(nums)/n\n",
    "    return mean\n",
    "\n",
    "result_mean = calc_mean(nums,n)\n",
    "print('manual mean calc: ', result_mean)\n",
    "\n",
    "auto_mean = statistics.mean(nums)\n",
    "print('library mean calc: ', auto_mean)"
   ]
  },
  {
   "cell_type": "code",
   "execution_count": 20,
   "id": "f21cb046-a04a-45b1-9943-10b1f47e8eba",
   "metadata": {},
   "outputs": [
    {
     "name": "stdout",
     "output_type": "stream",
     "text": [
      "manual median calc:  5.5\n",
      "library median calc:  5.5\n"
     ]
    }
   ],
   "source": [
    "def calc_median(nums, n):\n",
    "    nums.sort()\n",
    "    if n % 2 == 0:   # even num of terms\n",
    "        median = (nums[n//2 - 1] + nums[n//2]) / 2\n",
    "    elif n % 2 != 0: # odd num of terms\n",
    "        median = (nums[n // 2])\n",
    "    return median\n",
    "\n",
    "result_median = calc_median(nums, n)\n",
    "print('manual median calc: ', result_median)\n",
    "\n",
    "auto_median = statistics.median(nums)\n",
    "print('library median calc: ', auto_median)"
   ]
  },
  {
   "cell_type": "code",
   "execution_count": 30,
   "id": "8fe190d1-1ba6-47c9-bd78-c68f37ff3f22",
   "metadata": {},
   "outputs": [
    {
     "name": "stdout",
     "output_type": "stream",
     "text": [
      "manual mode calc:  5\n",
      "library mode calc:  5\n"
     ]
    }
   ],
   "source": [
    "lst = [1,1,1,2,3,4,5,5,5,5,5,5,5,5,7,8,9,9,9]\n",
    "\n",
    "print('manual mode calc: ',max(set(lst), key=lst.count))\n",
    "print('library mode calc: ',statistics.mode(lst))"
   ]
  }
 ],
 "metadata": {
  "kernelspec": {
   "display_name": "Python 3 (ipykernel)",
   "language": "python",
   "name": "python3"
  },
  "language_info": {
   "codemirror_mode": {
    "name": "ipython",
    "version": 3
   },
   "file_extension": ".py",
   "mimetype": "text/x-python",
   "name": "python",
   "nbconvert_exporter": "python",
   "pygments_lexer": "ipython3",
   "version": "3.13.5"
  }
 },
 "nbformat": 4,
 "nbformat_minor": 5
}
